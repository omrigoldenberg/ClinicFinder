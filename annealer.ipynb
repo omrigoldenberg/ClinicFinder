{
 "cells": [
  {
   "cell_type": "code",
   "execution_count": 1,
   "id": "c0371ece-617d-4f17-ac5d-f166d3dee9cb",
   "metadata": {},
   "outputs": [],
   "source": [
    "import math, random\n",
    "import numpy as np\n",
    "import pandas as pd\n",
    "from simanneal import Annealer"
   ]
  },
  {
   "cell_type": "code",
   "execution_count": 2,
   "id": "9fac1f16-d240-4e5a-af23-288fcafc2ac7",
   "metadata": {},
   "outputs": [],
   "source": [
    "class VaccineSiteDistributor(Annealer):\n",
    "    def __init__(self, dists_matrix: np.array, ccvi_array: np.array, min_temp: float,\n",
    "                 max_temp: float, init_state: tuple[list[int], list[int]], metric: int=1,\n",
    "                 tract_index_map: dict[int, int]={}) -> None:\n",
    "        '''\n",
    "        Constructs a VaccineSiteDistributor object that corresponds to the\n",
    "        specified input. For ease of use, use the from_csv_files class method instead\n",
    "        '''\n",
    "        self.dists_matrix = dists_matrix\n",
    "        self.ccvi_array = ccvi_array\n",
    "        self.Tmin = min_temp\n",
    "        self.Tmax = max_temp\n",
    "        if tract_index_map:\n",
    "            self.tract_index_map = tract_index_map\n",
    "            self.tracts = {tract for tract in tract_index_map}\n",
    "        else:\n",
    "            tracts = sorted(init_state[0] + init_state[1])\n",
    "            self.tract_index_map = {tract: index for index, tract in enumerate(tracts)}\n",
    "            self.tracts = set(tracts)\n",
    "\n",
    "        self.num_sites = len(init_state[0])\n",
    "        self.num_tracts = len(self.tracts)\n",
    "        self.max_dist = np.max(self.dists_matrix)\n",
    "\n",
    "        if metric == 1:\n",
    "            self.metric = 1\n",
    "        elif metric == 2:\n",
    "            self.metric = 2\n",
    "        elif metric == 3:\n",
    "            self.metric = 3\n",
    "        else:\n",
    "            raise ValueError('metric must be either 1, 2, or 3')\n",
    "\n",
    "        super(VaccineSiteDistributor, self).__init__(init_state)\n",
    "\n",
    "        self.prior_scores = self.score_solution('monroe_vaccine_tracts_short.txt')\n",
    "        self.posterior_scores = None\n",
    "\n",
    "    def move(self) -> None:\n",
    "        '''\n",
    "        Takes a random step somewhere in the search space\n",
    "        '''\n",
    "        has_site = self.state[0].pop(random.randrange(self.num_sites))\n",
    "        has_no_site = self.state[1].pop(random.randrange(self.num_tracts - self.num_sites))\n",
    "        self.state[0].append(has_no_site)\n",
    "        self.state[1].append(has_site)\n",
    "\n",
    "    def energy(self) -> float:\n",
    "        '''\n",
    "        Returns the energy of the current state of the system\n",
    "        '''\n",
    "        energy, _, _, _ = self.scores(self.state)\n",
    "        return energy\n",
    "\n",
    "    def scores(self, state: tuple[list[int], list[int]]) -> tuple[float, float, np.array, np.array]:\n",
    "        '''\n",
    "        Calculates the total energy and average minimum distance to a vaccination\n",
    "        center for the overall system at the specified state\n",
    "        '''\n",
    "        energies = np.zeros(self.num_tracts, dtype=np.float64)\n",
    "        min_dists = np.zeros(self.num_tracts, dtype=np.float64)\n",
    "        for tract1 in self.tracts:\n",
    "            index1 = self.tract_index_map[tract1]\n",
    "            min_dist = float('inf')\n",
    "            for tract2 in state[0]:\n",
    "                index2 = self.tract_index_map[tract2]\n",
    "                dist = self.dists_matrix[index1, index2]\n",
    "                if not math.isnan(dist) and dist < min_dist:\n",
    "                    min_dist = dist\n",
    "\n",
    "            min_dists[index1] = min_dist\n",
    "            ccvi = self.ccvi_array[index1]\n",
    "            if not math.isnan(ccvi):\n",
    "                if self.metric == 1:\n",
    "                    energies[index1] = min_dist * ccvi\n",
    "                elif self.metric == 2:\n",
    "                    energies[index1] = (1.0 + ccvi) ** min_dist\n",
    "                elif self.metric == 3:\n",
    "                    energies[index1] = min_dist / self.max_dist + ccvi\n",
    "\n",
    "        return np.sum(energies), np.mean(min_dists), energies, min_dists\n",
    "\n",
    "    def deltas(self) -> tuple[np.array, np.array]:\n",
    "        '''\n",
    "        Calculates the deltas for both energy and minimum distance to the\n",
    "        nearest distribution center for all census tracts. Only works after\n",
    "        annealing has completed\n",
    "        '''\n",
    "        self.posterior_scores = self.scores(self.best_state)\n",
    "        energy_deltas = self.prior_scores[2] - self.posterior_scores[2]\n",
    "        min_dist_deltas = self.prior_scores[3] - self.posterior_scores[3]\n",
    "        return energy_deltas, min_dist_deltas\n",
    "\n",
    "    def score_solution(self, sol_file: str) -> tuple[float, float, np.array, np.array]:\n",
    "        '''\n",
    "        Scores a preexisting solution to the distribution problem. Files should be\n",
    "        of the same format as monroe_vaccine_tracts_short.txt or quantum1.txt\n",
    "        '''\n",
    "        have_sites = set()\n",
    "        with open(sol_file) as file:\n",
    "            for line in file:\n",
    "                tract = int(line.strip())\n",
    "                have_sites.add(tract)\n",
    "\n",
    "        have_no_sites = set(self.tracts) - have_sites\n",
    "        state = (list(have_sites), list(have_no_sites))\n",
    "        return self.scores(state)\n",
    "\n",
    "    def solution_deltas(self, sol_file: str) -> tuple[np.array, np.array]:\n",
    "        '''\n",
    "        Returns the deltas between the starting state of the annealer\n",
    "        and the provided input solution\n",
    "        '''\n",
    "        scores = self.score_solution(sol_file)\n",
    "        energy_deltas = self.prior_scores[2] - scores[2]\n",
    "        min_dist_deltas = self.prior_scores[3] - scores[3]\n",
    "        return energy_deltas, min_dist_deltas\n",
    "\n",
    "    @classmethod\n",
    "    def from_csv_files(cls, dists_file: str, stats_file: str, num_sites: int,\n",
    "                       min_temp: float, max_temp: float, metric: int=1) -> 'VaccineSiteDistributor':\n",
    "        '''\n",
    "        Builds a VaccineSiteDistributor object from the specified CSV files and input options\n",
    "        '''\n",
    "        dists_matrix, tract_index_map = cls._parse_dists_file(dists_file)\n",
    "        ccvi_array = cls._parse_stats_file(stats_file, len(tract_index_map))\n",
    "        tracts = [tract for tract in tract_index_map]\n",
    "        random.shuffle(tracts)\n",
    "        init_state = (tracts[:num_sites], tracts[num_sites:])\n",
    "        return cls(dists_matrix, ccvi_array, min_temp, max_temp, init_state, metric, tract_index_map)\n",
    "\n",
    "    @staticmethod\n",
    "    def _parse_dists_file(dists_file: str) -> tuple[np.array, dict[int, int]]:\n",
    "        '''\n",
    "        Retrieves census tract distances from a file of the same format as monroe_tract_dists.csv\n",
    "        '''\n",
    "        dists = pd.read_csv(dists_file)\n",
    "        if ['tract1', 'mi_to_tract', 'tract2'] == list(dists):\n",
    "            tract_index_map = {tract: index for index, tract in enumerate(dists['tract1'].unique())}\n",
    "            shape = (len(tract_index_map),) * 2\n",
    "            dists_matrix = np.zeros(shape, dtype=np.float64)\n",
    "            for _, row in dists.iterrows():\n",
    "                tract1, dist, tract2 = int(row[0]), row[1], int(row[2])\n",
    "                index1, index2 = tract_index_map[tract1], tract_index_map[tract2]\n",
    "                dists_matrix[index1, index2] = dist\n",
    "\n",
    "            return dists_matrix, tract_index_map\n",
    "\n",
    "        else:\n",
    "            raise ValueError('dists_file must be of the form tract1,mi_to_tract,tract2')\n",
    "\n",
    "    @staticmethod\n",
    "    def _parse_stats_file(stats_file: str, num_tracts: int) -> np.array:\n",
    "        '''\n",
    "        Retrieves CCVI data from a file of the same format as monroe_tracts.csv\n",
    "        '''\n",
    "        stats = pd.read_csv(stats_file)\n",
    "        if 'tract' in stats and 'ccvi' in stats:\n",
    "            if len(stats['tract'].unique()) == num_tracts:\n",
    "                return np.array(stats['ccvi'])\n",
    "\n",
    "            else:\n",
    "                raise ValueError('stats_file must have the same number of unique tracts as dists_file')\n",
    "\n",
    "        else:\n",
    "            raise ValueError('stats_file must be of the form ...,tract,...,ccvi,...')"
   ]
  },
  {
   "cell_type": "code",
   "execution_count": 3,
   "id": "e206ed6d-37d4-4e44-a8f3-efc8aabd24fa",
   "metadata": {},
   "outputs": [],
   "source": [
    "vsd = VaccineSiteDistributor.from_csv_files('monroe_tract_dists.csv', 'monroe_tracts.csv',\n",
    "                                            num_sites=65, min_temp=0.0001, max_temp=35.0, metric=1)"
   ]
  },
  {
   "cell_type": "code",
   "execution_count": 4,
   "id": "5d34604c-b3fa-4f64-b41e-c88bef559392",
   "metadata": {},
   "outputs": [
    {
     "name": "stderr",
     "output_type": "stream",
     "text": [
      " Temperature        Energy    Accept   Improve     Elapsed   Remaining\n",
      "     0.00010         55.31     0.00%     0.00%     0:02:09     0:00:00"
     ]
    },
    {
     "data": {
      "text/plain": [
       "55.31208926585622"
      ]
     },
     "execution_count": 4,
     "metadata": {},
     "output_type": "execute_result"
    }
   ],
   "source": [
    "vsd.anneal()\n",
    "vsd.best_energy"
   ]
  },
  {
   "cell_type": "code",
   "execution_count": 5,
   "id": "87045292-41fe-40c9-ae8b-cd0c339cefe8",
   "metadata": {},
   "outputs": [
    {
     "data": {
      "text/plain": [
       "(array([ 0.37455988,  0.26190266, -0.39413664,  0.22711721, -0.06261388,\n",
       "         0.01991391,  0.56846498, -0.36831157,  0.3144875 , -0.32482656,\n",
       "         0.        ,  0.        ,  0.27620084,  0.36004024, -0.25200261,\n",
       "        -0.22453819,  0.09275424,  0.21565807,  0.26889929,  0.26361696,\n",
       "         0.10319379, -0.02970814, -0.69935694, -0.46080942, -0.04784624,\n",
       "         0.46175472,  0.12621285,  0.70654576,  0.48672384,  0.51497422,\n",
       "         0.01626297, -0.06528806,  0.45585057, -0.25890886,  0.43739027,\n",
       "        -0.63899866,  0.30741986,  0.38813372,  0.46200264, -0.45670074,\n",
       "         0.09431751, -0.03110635,  0.10101484,  0.28904122,  0.40567737,\n",
       "         0.19100678,  0.28365757,  0.58971666,  0.06042445,  0.45761623,\n",
       "         0.66766868,  0.022613  , -0.46739311,  0.83760828,  0.23731814,\n",
       "        -0.31167065, -0.50042497, -0.1744117 , -0.01745819, -0.44493031,\n",
       "        -0.67887757,  0.        , -0.05708051,  0.04164976,  1.02082583,\n",
       "         0.35445391,  0.81222602,  0.39617676,  0.43612906,  0.23986289,\n",
       "         0.64853033, -0.38677732, -0.63052122,  0.09978922, -0.283308  ,\n",
       "        -0.0307758 , -0.49005709,  0.13695543, -0.60377244, -0.11476342,\n",
       "         0.04684904, -0.48255838, -0.02723518, -0.58822522,  0.        ,\n",
       "         0.38285111, -0.25692237, -0.58363099,  0.70667648,  0.29190588,\n",
       "        -0.03506976,  0.01437031,  0.09265304,  0.        ,  0.        ,\n",
       "         0.        ,  0.        ,  0.        ,  0.        , -0.56189789,\n",
       "         0.1634125 , -0.10064954,  1.09532166, -0.54765543, -0.62375853,\n",
       "         0.00374561,  0.66548987,  0.33259728, -0.17660053,  0.        ,\n",
       "         0.78695993,  0.        ,  0.26132988,  0.67359843, -0.07709163,\n",
       "         0.59186437,  0.55591604,  0.02160886,  0.23077877,  0.        ,\n",
       "         0.        ,  0.1239403 ,  1.07199249,  0.        ,  0.        ,\n",
       "        -0.01756318,  0.70799481, -0.51192288,  0.        ,  0.        ,\n",
       "         0.93524625,  0.83707443, -0.68670177,  1.22192359,  0.        ,\n",
       "         1.05567507,  0.        ,  0.74416337, -0.45682993,  0.        ,\n",
       "         0.        ,  1.20191342,  0.26883013, -0.02135874,  0.        ,\n",
       "        -0.58578631, -0.15132358, -0.52770611,  0.27337856,  0.79371059,\n",
       "         0.        ,  0.        ,  0.225447  ,  0.80102345, -0.03043179,\n",
       "        -0.41411883,  0.67843395, -0.6599639 ,  0.        , -0.48414246,\n",
       "         0.        ,  0.5388242 , -0.64096173,  0.51549362,  0.        ,\n",
       "        -0.48134913,  0.        ,  0.14898501,  0.59709766, -0.46352874,\n",
       "         0.        ,  1.20215023,  0.        ,  0.        ,  0.04993929,\n",
       "         0.36470335,  2.50519837,  0.        ,  0.        ,  0.        ,\n",
       "        -0.34089372,  0.28693387,  0.45841858,  2.81143895,  1.30573933,\n",
       "         0.        ,  0.        , -0.6176327 , -0.62458272,  0.0267796 ]),\n",
       " array([ 0.39740279,  0.26288967, -0.49500072,  0.22925473, -0.06638171,\n",
       "         0.02811827,  0.6375446 , -0.38727253,  0.32861436, -0.32861436,\n",
       "         0.        ,  0.        ,  0.28595437,  0.46402287, -0.36304814,\n",
       "        -0.46402287,  0.09941191,  0.36304814,  0.33570438,  0.33653695,\n",
       "         0.16098883, -0.03667208, -0.92614176, -0.46911534, -0.05255965,\n",
       "         0.49131633,  0.12843345,  0.70957355,  0.50647599,  0.52168857,\n",
       "         0.01633289, -0.06627324,  0.46911534, -0.26288967,  0.44720409,\n",
       "        -0.71869302,  0.30972841,  0.39620257,  0.47539898, -0.47539898,\n",
       "         0.10895829, -0.04315537,  0.23534915,  0.3050946 ,  0.4093008 ,\n",
       "         0.19286109,  0.28595133,  0.61331247,  0.06186609,  0.53911762,\n",
       "         0.69815574,  0.02651961, -0.53911762,  0.85148092,  0.40685607,\n",
       "        -0.40685607, -0.83635126, -0.63933833, -0.01779797, -0.44720409,\n",
       "        -0.68306981,  0.        , -0.0626283 ,  0.04360905,  1.19566789,\n",
       "         0.67060279,  0.95835368,  0.4334435 ,  0.51718003,  0.24893664,\n",
       "         0.6638997 , -0.47882641, -0.6638997 ,  0.10301462, -0.28595437,\n",
       "        -0.03207004, -0.49131633,  0.14800102, -1.19566789, -0.52395563,\n",
       "         0.20174267, -0.70957355, -0.10101551, -1.04032257,  0.        ,\n",
       "         1.0907237 , -1.01029165, -0.62197618,  1.01029165,  0.61396521,\n",
       "        -0.08559736,  0.07214241,  0.57593772,  0.        ,  0.        ,\n",
       "         0.        ,  0.        ,  0.        ,  0.        , -1.36216127,\n",
       "         0.45601476, -0.60420695,  2.93548483, -0.92160298, -1.29926744,\n",
       "         0.01835203,  1.40418382,  1.44831107, -0.92605907,  0.        ,\n",
       "         2.70634879,  0.        ,  0.82403793,  0.92160298, -0.29086566,\n",
       "         1.23690212,  1.29926744,  0.14229986,  0.53271002,  0.        ,\n",
       "         0.        ,  0.83188902,  2.69843033,  0.        ,  0.        ,\n",
       "        -0.06721067,  1.06764245, -1.06764245,  0.        ,  0.        ,\n",
       "         1.22375117,  1.55611594, -1.89882089,  2.12806221,  0.        ,\n",
       "         1.89882089,  0.        ,  1.37342   , -1.37342   ,  0.        ,\n",
       "         0.        ,  3.19481909,  1.29181998, -0.03793448,  0.        ,\n",
       "        -1.50434558, -0.65120653, -0.80252734,  0.59041163,  0.99172262,\n",
       "         0.        ,  0.        ,  0.40871505,  1.0379068 , -0.03618835,\n",
       "        -0.99172262,  0.93688498, -0.93688498,  0.        , -0.99592142,\n",
       "         0.        ,  0.91882326, -1.31689794,  1.00883455,  0.        ,\n",
       "        -1.00883455,  0.        ,  0.56775707,  1.4896691 , -1.4896691 ,\n",
       "         0.        ,  2.8958886 ,  0.        ,  0.        ,  0.20631112,\n",
       "         3.9419965 ,  4.68053331,  0.        ,  0.        ,  0.        ,\n",
       "        -1.26275529,  1.25789088,  3.3979371 ,  7.99166994,  1.99744771,\n",
       "         0.        ,  0.        , -0.96059784, -1.98193192,  0.35036759]))"
      ]
     },
     "execution_count": 5,
     "metadata": {},
     "output_type": "execute_result"
    }
   ],
   "source": [
    "vsd.deltas()"
   ]
  },
  {
   "cell_type": "code",
   "execution_count": 6,
   "id": "a99fe75a-5225-47d6-94ce-eb4ee5dcb63f",
   "metadata": {},
   "outputs": [
    {
     "data": {
      "text/plain": [
       "Text(0.5, 1.0, 'Change in energy by CCVI using Metric 1')"
      ]
     },
     "execution_count": 6,
     "metadata": {},
     "output_type": "execute_result"
    },
    {
     "data": {
      "image/png": "[encoded data removed]",
      "text/plain": [
       "<Figure size 432x288 with 1 Axes>"
      ]
     },
     "metadata": {
      "needs_background": "light"
     },
     "output_type": "display_data"
    }
   ],
   "source": [
    "import matplotlib.pyplot as plt\n",
    "\n",
    "plt.scatter(vsd.ccvi_array, vsd.deltas()[0])\n",
    "plt.xlabel('CCVI')\n",
    "plt.ylabel('ΔE')\n",
    "plt.title('Change in energy by CCVI using Metric 1')\n",
    "#plt.savefig('scatterplot_metric.png')"
   ]
  },
  {
   "cell_type": "code",
   "execution_count": 7,
   "id": "9dd4ee99-5160-43c2-bb0a-7925ea5c8d5f",
   "metadata": {},
   "outputs": [],
   "source": [
    "from statistics import mean, median\n",
    "\n",
    "def get_bins(deltas: np.array, num_bins: int) -> list[list[float]]:\n",
    "    bins = [[] for _ in range(num_bins)]\n",
    "\n",
    "    for index, delta in enumerate(deltas):\n",
    "        b, i, j = 0, 0, (1 / num_bins)\n",
    "        binned = False\n",
    "        ccvi = vsd.ccvi_array[index]\n",
    "        while not binned and not math.isnan(ccvi):\n",
    "            if i < ccvi < j:\n",
    "                bins[b].append(delta)\n",
    "                binned = True\n",
    "            else:\n",
    "                b, i, j = (b + 1), j, (j + 1 / num_bins)\n",
    "\n",
    "    return bins"
   ]
  },
  {
   "cell_type": "code",
   "execution_count": 8,
   "id": "b732fd40-a005-4c91-b7f3-e232b9086ba8",
   "metadata": {},
   "outputs": [
    {
     "data": {
      "text/plain": [
       "([0.013389797884470409,\n",
       "  0.10674162009232832,\n",
       "  0.037371866888591135,\n",
       "  -0.08869888183783994,\n",
       "  0.44378148568723735,\n",
       "  -0.03352217142705316,\n",
       "  0.4052119435443246,\n",
       "  0.039881823331150944,\n",
       "  0.07255461554122879,\n",
       "  0.13340725812801055,\n",
       "  0.1974322374575222,\n",
       "  0.10926800240842474],\n",
       " [0.013389797884470409,\n",
       "  0.02160885578572544,\n",
       "  0.0,\n",
       "  -0.05216340682736709,\n",
       "  0.16341250181172384,\n",
       "  0.0,\n",
       "  0.23138257182419725,\n",
       "  0.0,\n",
       "  0.0,\n",
       "  0.13180847930761005,\n",
       "  0.0943175083651262,\n",
       "  0.1315841397121211],\n",
       " [2, 9, 15, 14, 15, 20, 16, 17, 9, 12, 13, 48])"
      ]
     },
     "execution_count": 8,
     "metadata": {},
     "output_type": "execute_result"
    }
   ],
   "source": [
    "bins = get_bins(vsd.deltas()[0], 12)\n",
    "means = [mean(b) for b in bins]\n",
    "medians = [median(b) for b in bins]\n",
    "counts = [len(b) for b in bins]\n",
    "means, medians, counts"
   ]
  },
  {
   "cell_type": "code",
   "execution_count": 9,
   "id": "f5fed933-9feb-48af-91db-a683a0d2c773",
   "metadata": {},
   "outputs": [],
   "source": [
    "xs = np.array([str(i) for i in range(len(bins))])\n",
    "ys = np.array(means)\n",
    "zs = np.array(counts)\n",
    "ws = np.array(medians)"
   ]
  },
  {
   "cell_type": "code",
   "execution_count": 10,
   "id": "9c733401-03fa-449a-97d5-07cfe4d26b34",
   "metadata": {},
   "outputs": [
    {
     "data": {
      "text/plain": [
       "Text(0.5, 1.0, 'Average change in energy by risk classification using Metric 1')"
      ]
     },
     "execution_count": 10,
     "metadata": {},
     "output_type": "execute_result"
    },
    {
     "data": {
      "image/png": "[encoded data removed]",
      "text/plain": [
       "<Figure size 432x288 with 1 Axes>"
      ]
     },
     "metadata": {
      "needs_background": "light"
     },
     "output_type": "display_data"
    }
   ],
   "source": [
    "plt.bar(xs, means)\n",
    "plt.xlabel('Risk classification')\n",
    "plt.ylabel('Average ΔE')\n",
    "plt.title('Average change in energy by risk classification using Metric 1')\n",
    "#plt.savefig('barplot_metric1.png')"
   ]
  },
  {
   "cell_type": "code",
   "execution_count": null,
   "id": "4ac5a4da-dc43-4d22-85c7-69ffbd8e8ebd",
   "metadata": {},
   "outputs": [],
   "source": []
  }
 ],
 "metadata": {
  "kernelspec": {
   "display_name": "Python 3",
   "language": "python",
   "name": "python3"
  },
  "language_info": {
   "codemirror_mode": {
    "name": "ipython",
    "version": 3
   },
   "file_extension": ".py",
   "mimetype": "text/x-python",
   "name": "python",
   "nbconvert_exporter": "python",
   "pygments_lexer": "ipython3",
   "version": "3.9.5"
  }
 },
 "nbformat": 4,
 "nbformat_minor": 5
}
