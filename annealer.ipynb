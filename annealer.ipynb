{
 "cells": [
  {
   "cell_type": "code",
   "execution_count": 73,
   "id": "d4e967f0-d99b-456b-b015-6dc1b7ea64c4",
   "metadata": {},
   "outputs": [],
   "source": [
    "from simanneal import Annealer\n",
    "import random, math\n",
    "import csv\n",
    "from collections import defaultdict\n",
    "class ClinicFinder(Annealer):\n",
    "    def __init__(self, state, distance_matrix, population, risk, clinic_amount):\n",
    "        self.distance_matrix = distance_matrix\n",
    "        self.population = population\n",
    "        self.risk = risk\n",
    "        self.clinic_amount = clinic_amount\n",
    "        super(ClinicFinder, self).__init__(state)\n",
    "\n",
    "    def move(self):\n",
    "        a = random.randint(0, self.clinic_amount - 1)\n",
    "        b = random.randint(self.clinic_amount, len(self.state) - 1)\n",
    "        self.state[a], self.state[b] = self.state[b], self.state[a]\n",
    "\n",
    "\n",
    "    def energy(self):\n",
    "        e = 0\n",
    "        for i in range(self.clinic_amount,len(self.state)):\n",
    "            min = 1000000000.0\n",
    "            for j in range(self.clinic_amount):\n",
    "                if self.distance_matrix[self.state[i]][self.state[j]] <  min:\n",
    "                    min = self.distance_matrix[self.state[i]][self.state[j]]\n",
    "            e += min * self.risk[self.state[i]]\n",
    "        return e"
   ]
  },
  {
   "cell_type": "code",
   "execution_count": 74,
   "id": "350de6ae-7477-4c5e-a7e1-dcb22a35adfc",
   "metadata": {},
   "outputs": [
    {
     "name": "stdout",
     "output_type": "stream",
     "text": [
      "65\n",
      "['10400', '10500', '15304', '15301', '6900', '11603', '14302', '11208', '8301', '5300', '10901', '7500', '11902', '7801', '13001', '13901', '9500', '6300', '14103', '1900', '14204', '12401', '15102', '7000', '4702', '13002', '4701', '10602', '3200', '9400', '6600', '8702', '4800', '14905', '9602', '9302', '2700', '11100', '13204', '14903', '2000', '15000', '3900', '14700', '13104', '3500', '12301', '700', '8500', '6700', '5100', '13402', '13800', '15303', '5800', '2100', '3100', '1300', '10902', '11203', '13503', '13203', '10100', '13702', '11901', '13401', '13508', '13206', '12100', '11301', '13603', '9604', '11707', '13507', '11706', '11000', '12305', '11201', '13604', '1000', '15200', '11604', '9603', '11400', '13103', '13205', '9601', '3600', '11504', '5600', '14001', '14901', '9301', '10800', '13300', '4100', '12500', '14804', '3805', '3000', '8701', '9200', '5700', '12304', '14504', '14400', '14203', '11708', '15400', '14802', '4602', '6800', '11705', '14104', '5000', '3700', '7900', '13701', '14803', '12306', '7600', '10601', '6100', '12402', '11505', '6200', '3300', '12600', '12700', '14501', '6500', '15101', '11800', '14503', '14202', '14301', '12202', '6000', '8000', '8200', '14601', '8800', '10300', '11207', '11302', '2900', '4900', '13505', '11601', '13902', '11205', '5900', '2200', '10700', '12201', '1800', '2400', '7802', '4000', '6400', '2300', '5400', '11703', '13506', '7700', '11503', '3400', '12900', '14004', '11605', '13601', '5200', '1500', '8600', '5500', '12800', '14906', '10200', '14003', '14505', '11501', '8400', '13101', '14102', '7100', '8100', '12000', '14602']\n"
     ]
    }
   ],
   "source": [
    "file = open('./annealer/monroe_tracts.csv','r')\n",
    "reader = csv.DictReader(file)\n",
    "line_count = 0\n",
    "risk = {}\n",
    "population = {}\n",
    "tracts = []\n",
    "for row in reader:\n",
    "    if line_count != 0:\n",
    "        risk[row['tract']] =  float(row['ccvi'])\n",
    "        population[row['tract']] =  float(row['pop_est'])\n",
    "        tracts.append(row['tract'])\n",
    "    line_count+=1\n",
    "file2 = open('./annealer/monroe_tract_dists.csv','r')\n",
    "reader2 = csv.DictReader(file2)\n",
    "distance_matrix = defaultdict(dict)\n",
    "for row in reader2:\n",
    "    if line_count != 0:\n",
    "        distance_matrix[row['tract1']][row['tract2']] = float(row['mi_to_tract'])\n",
    "    line_count += 1\n",
    "random.shuffle(tracts)\n",
    "\n",
    "CF = ClinicFinder(tracts,distance_matrix,population,risk,65)\n",
    "CF.Tmax = 500.0\n",
    "print(CF.clinic_amount)\n",
    "print(CF.state)\n"
   ]
  },
  {
   "cell_type": "code",
   "execution_count": 75,
   "id": "2ee99a97-0840-4502-b119-3cf242de596b",
   "metadata": {},
   "outputs": [
    {
     "name": "stderr",
     "output_type": "stream",
     "text": [
      " Temperature        Energy    Accept   Improve     Elapsed   Remaining\n",
      "     2.50000         79.39    87.00%    41.60%     0:00:56     0:00:00"
     ]
    },
    {
     "name": "stdout",
     "output_type": "stream",
     "text": [
      "['4702', '10100', '7900', '8702', '13103', '10901', '9603', '15304', '2200', '11207', '13206', '7700', '14804', '7000', '11400', '3700', '11708', '14003', '13001', '14104', '6600', '13507', '8701', '15000', '11705', '8200', '15301', '6100', '12500', '5200', '11902', '13505', '2900', '13604', '12700', '15101', '11605', '11501', '12301', '4602', '3400', '2100', '6300', '11603', '12304', '10601', '8500', '14505', '4701', '13002', '13902', '13402', '13901', '14202', '13204', '11604', '14203', '1800', '11208', '14700', '5700', '11505', '11601', '14901', '7100', '14004', '5500', '8000', '4100', '2000', '8400', '12600', '6000', '10200', '15303', '12402', '13503', '2300', '7500', '11503', '3805', '11301', '12306', '14903', '14501', '12202', '9400', '4000', '8800', '13603', '11707', '12000', '7801', '3000', '13702', '14803', '3100', '12800', '14504', '9301', '9601', '3600', '13506', '12100', '14906', '11205', '14301', '15102', '10400', '14905', '9604', '11201', '5400', '8600', '10602', '9602', '11703', '13205', '5800', '14102', '9302', '4900', '14001', '13104', '7802', '11100', '13401', '9200', '10800', '3200', '1000', '5600', '5100', '14601', '8100', '13800', '1300', '12305', '3500', '10700', '13601', '5300', '6500', '3300', '13300', '14802', '12201', '11901', '11302', '14302', '11203', '6800', '15400', '14503', '3900', '14204', '6200', '13101', '10300', '13701', '14602', '8301', '14400', '9500', '12900', '6900', '1900', '6400', '10500', '12401', '5900', '13508', '11000', '10902', '13203', '7600', '2700', '1500', '2400', '4800', '11706', '15200', '11504', '700', '11800', '14103', '6700', '5000']\n",
      "70.24754540321884\n"
     ]
    }
   ],
   "source": [
    "states, utility = CF.anneal()\n",
    "states_copy = [x for x in states]\n",
    "\n",
    "print(states)\n",
    "print(utility)"
   ]
  },
  {
   "cell_type": "code",
   "execution_count": 76,
   "id": "22982181-6f70-417f-9688-992ae79ccf12",
   "metadata": {},
   "outputs": [
    {
     "name": "stdout",
     "output_type": "stream",
     "text": [
      "77.03871822466601\n"
     ]
    }
   ],
   "source": [
    "f = open(\"monroe_vaccine_tracts_short.txt\", \"r\")\n",
    "unique = {x.strip() for x in f}\n",
    "#print(len(unique))\n",
    "index = 0\n",
    "for x in unique:\n",
    "    for i in range(len(states)):\n",
    "        if x == states[i]:\n",
    "            states[index], states[i] = states[i], states[index]\n",
    "            index = index + 1\n",
    "            break\n",
    "\n",
    "#print(states)\n",
    "#print(unique)\n",
    "e = 0\n",
    "e_orig = {}\n",
    "for i in range(65,len(states)):\n",
    "    min = 1000000000.0\n",
    "    for j in range(65):\n",
    "        if distance_matrix[states[i]][states[j]] <  min:\n",
    "            min = distance_matrix[states[i]][states[j]]\n",
    "    e += min * risk[states[i]]\n",
    "    e_orig[states[i]] = min * risk[states[i]]\n",
    "print(e)\n",
    "    \n",
    "e = 0\n",
    "e_new = {}\n",
    "for i in range(65,len(states_copy)):\n",
    "    min = 1000000000.0\n",
    "    for j in range(65):\n",
    "        if distance_matrix[states_copy[i]][states_copy[j]] <  min:\n",
    "            min = distance_matrix[states_copy[i]][states_copy[j]]\n",
    "    e += min * risk[states_copy[i]]\n",
    "    e_new[states_copy[i]] = min * risk[states_copy[i]]\n",
    "\n",
    "for i in range(65):\n",
    "    e_orig[states[i]] = 0\n",
    "    e_new[states_copy[i]] = 0\n",
    "\n",
    "deltas = defaultdict()\n",
    "for x in e_new:\n",
    "    deltas[x] = (e_orig[x] - e_new[x])"
   ]
  },
  {
   "cell_type": "code",
   "execution_count": 77,
   "id": "2e044f5c-5ddf-4fbf-b34a-d2bc64ca38a4",
   "metadata": {},
   "outputs": [],
   "source": [
    "for i in range(65):\n",
    "    e_orig[states[i]] = 0\n",
    "    e_new[states_copy[i]] = 0"
   ]
  },
  {
   "cell_type": "code",
   "execution_count": 78,
   "id": "72949a49-5029-4179-816d-475f92ee722d",
   "metadata": {},
   "outputs": [],
   "source": [
    "deltas = defaultdict()\n",
    "for x in e_new:\n",
    "    #deltas[x] = (e_new[x] - e_orig[x])\n",
    "    deltas |= {x: e_orig[x] - e_new[x]}\n",
    "    #print(deltas[x], x)"
   ]
  },
  {
   "cell_type": "code",
   "execution_count": 79,
   "id": "9475b3a2-5e95-42c9-9838-8ea0fe5c3b1d",
   "metadata": {},
   "outputs": [
    {
     "data": {
      "image/png": "[encoded data removed]",
      "text/plain": [
       "<Figure size 432x288 with 1 Axes>"
      ]
     },
     "metadata": {
      "needs_background": "light"
     },
     "output_type": "display_data"
    }
   ],
   "source": [
    "import matplotlib.pyplot as plt\n",
    "\n",
    "shuffled_deltas = [(x, deltas[x]) for x in deltas]\n",
    "random.shuffle(shuffled_deltas)\n",
    "\n",
    "keys = [x for x, y in shuffled_deltas]\n",
    "values = [y for x, y in shuffled_deltas]\n",
    "plt.bar(keys, values)\n",
    "plt.xlabel('Census tract')\n",
    "plt.ylabel('ΔE')\n",
    "plt.title('Change in energy by census tract')\n",
    "plt.savefig('barplot.png')"
   ]
  },
  {
   "cell_type": "code",
   "execution_count": 23,
   "id": "16a50bd0-356a-419c-9bcb-5efd5e265476",
   "metadata": {},
   "outputs": [
    {
     "data": {
      "text/plain": [
       "<Figure size 432x288 with 0 Axes>"
      ]
     },
     "metadata": {},
     "output_type": "display_data"
    }
   ],
   "source": [
    "plt.savefig('barplot.png')"
   ]
  },
  {
   "cell_type": "code",
   "execution_count": 80,
   "id": "a99fe75a-5225-47d6-94ce-eb4ee5dcb63f",
   "metadata": {},
   "outputs": [
    {
     "data": {
      "image/png": "[encoded data removed]",
      "text/plain": [
       "<Figure size 432x288 with 1 Axes>"
      ]
     },
     "metadata": {
      "needs_background": "light"
     },
     "output_type": "display_data"
    }
   ],
   "source": [
    "import numpy as np\n",
    "\n",
    "ccvi = []\n",
    "delta = []\n",
    "distances = []\n",
    "for x in risk:\n",
    "    ccvi.append(risk[x])\n",
    "    delta.append(deltas[x])\n",
    "        \n",
    "    \n",
    "ccvi = np.array(ccvi)\n",
    "delta = np.array(delta)\n",
    "\n",
    "plt.scatter(ccvi, delta)\n",
    "plt.xlabel('CCVI')\n",
    "plt.ylabel('ΔE')\n",
    "plt.title('Change in energy by CCVI')\n",
    "#plt.set_title('Energy deltas by CCVI')\n",
    "plt.show()"
   ]
  },
  {
   "cell_type": "code",
   "execution_count": 25,
   "id": "dbc74aaa-017c-40e7-99ac-e8ef97f6925e",
   "metadata": {},
   "outputs": [
    {
     "data": {
      "text/plain": [
       "<Figure size 432x288 with 0 Axes>"
      ]
     },
     "metadata": {},
     "output_type": "display_data"
    }
   ],
   "source": [
    "plt.savefig('scatterplot.png')"
   ]
  },
  {
   "cell_type": "code",
   "execution_count": 88,
   "id": "2c12051d-3829-44ab-b91d-ab43c44f95f2",
   "metadata": {},
   "outputs": [],
   "source": [
    "d = [(x, deltas[x]) for x in deltas]\n",
    "d = sorted(x, key=lambda x: x[1])\n",
    "with open('deltas.txt', 'w') as f:\n",
    "    for x, dx in d:\n",
    "        f.write(f'{x}, {dx}\\n')"
   ]
  },
  {
   "cell_type": "code",
   "execution_count": null,
   "id": "f840746a-5512-4880-b9f6-bb530d03d9d5",
   "metadata": {},
   "outputs": [],
   "source": []
  }
 ],
 "metadata": {
  "kernelspec": {
   "display_name": "Python 3",
   "language": "python",
   "name": "python3"
  },
  "language_info": {
   "codemirror_mode": {
    "name": "ipython",
    "version": 3
   },
   "file_extension": ".py",
   "mimetype": "text/x-python",
   "name": "python",
   "nbconvert_exporter": "python",
   "pygments_lexer": "ipython3",
   "version": "3.9.5"
  }
 },
 "nbformat": 4,
 "nbformat_minor": 5
}
