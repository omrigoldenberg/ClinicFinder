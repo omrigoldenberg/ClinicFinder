{
 "cells": [
  {
   "cell_type": "code",
   "execution_count": 327,
   "id": "f9f2af65-b816-4dd7-8410-4a071e31f3d9",
   "metadata": {},
   "outputs": [],
   "source": [
    "import numpy as np\n",
    "import pandas as pd"
   ]
  },
  {
   "cell_type": "code",
   "execution_count": 328,
   "id": "0e4c92ab-c583-4374-979a-13cc288b407f",
   "metadata": {},
   "outputs": [
    {
     "data": {
      "text/html": [
       "<div>\n",
       "<style scoped>\n",
       "    .dataframe tbody tr th:only-of-type {\n",
       "        vertical-align: middle;\n",
       "    }\n",
       "\n",
       "    .dataframe tbody tr th {\n",
       "        vertical-align: top;\n",
       "    }\n",
       "\n",
       "    .dataframe thead th {\n",
       "        text-align: right;\n",
       "    }\n",
       "</style>\n",
       "<table border=\"1\" class=\"dataframe\">\n",
       "  <thead>\n",
       "    <tr style=\"text-align: right;\">\n",
       "      <th></th>\n",
       "      <th>tract1</th>\n",
       "      <th>mi_to_tract</th>\n",
       "      <th>tract2</th>\n",
       "    </tr>\n",
       "  </thead>\n",
       "  <tbody>\n",
       "    <tr>\n",
       "      <th>0</th>\n",
       "      <td>200</td>\n",
       "      <td>0.436671</td>\n",
       "      <td>4100</td>\n",
       "    </tr>\n",
       "    <tr>\n",
       "      <th>1</th>\n",
       "      <td>200</td>\n",
       "      <td>0.550295</td>\n",
       "      <td>9200</td>\n",
       "    </tr>\n",
       "    <tr>\n",
       "      <th>2</th>\n",
       "      <td>200</td>\n",
       "      <td>0.557736</td>\n",
       "      <td>9604</td>\n",
       "    </tr>\n",
       "    <tr>\n",
       "      <th>3</th>\n",
       "      <td>200</td>\n",
       "      <td>0.834074</td>\n",
       "      <td>9601</td>\n",
       "    </tr>\n",
       "    <tr>\n",
       "      <th>4</th>\n",
       "      <td>200</td>\n",
       "      <td>0.876827</td>\n",
       "      <td>2300</td>\n",
       "    </tr>\n",
       "    <tr>\n",
       "      <th>...</th>\n",
       "      <td>...</td>\n",
       "      <td>...</td>\n",
       "      <td>...</td>\n",
       "    </tr>\n",
       "    <tr>\n",
       "      <th>37051</th>\n",
       "      <td>990000</td>\n",
       "      <td>31.176584</td>\n",
       "      <td>11708</td>\n",
       "    </tr>\n",
       "    <tr>\n",
       "      <th>37052</th>\n",
       "      <td>990000</td>\n",
       "      <td>32.366281</td>\n",
       "      <td>14700</td>\n",
       "    </tr>\n",
       "    <tr>\n",
       "      <th>37053</th>\n",
       "      <td>990000</td>\n",
       "      <td>33.374571</td>\n",
       "      <td>12402</td>\n",
       "    </tr>\n",
       "    <tr>\n",
       "      <th>37054</th>\n",
       "      <td>990000</td>\n",
       "      <td>34.075776</td>\n",
       "      <td>13300</td>\n",
       "    </tr>\n",
       "    <tr>\n",
       "      <th>37055</th>\n",
       "      <td>990000</td>\n",
       "      <td>35.415957</td>\n",
       "      <td>12401</td>\n",
       "    </tr>\n",
       "  </tbody>\n",
       "</table>\n",
       "<p>37056 rows × 3 columns</p>\n",
       "</div>"
      ],
      "text/plain": [
       "       tract1  mi_to_tract  tract2\n",
       "0         200     0.436671    4100\n",
       "1         200     0.550295    9200\n",
       "2         200     0.557736    9604\n",
       "3         200     0.834074    9601\n",
       "4         200     0.876827    2300\n",
       "...       ...          ...     ...\n",
       "37051  990000    31.176584   11708\n",
       "37052  990000    32.366281   14700\n",
       "37053  990000    33.374571   12402\n",
       "37054  990000    34.075776   13300\n",
       "37055  990000    35.415957   12401\n",
       "\n",
       "[37056 rows x 3 columns]"
      ]
     },
     "execution_count": 328,
     "metadata": {},
     "output_type": "execute_result"
    }
   ],
   "source": [
    "distances = pd.read_csv('monroe_tract_dists.csv')\n",
    "distances"
   ]
  },
  {
   "cell_type": "code",
   "execution_count": 343,
   "id": "fc29de69-e259-45f8-9b58-2c5f604ca653",
   "metadata": {},
   "outputs": [
    {
     "data": {
      "text/plain": [
       "193"
      ]
     },
     "execution_count": 343,
     "metadata": {},
     "output_type": "execute_result"
    }
   ],
   "source": [
    "tract_index_map = {tract: index for index, tract in enumerate(distances['tract1'].unique())}\n",
    "len(tract_index_map)"
   ]
  },
  {
   "cell_type": "code",
   "execution_count": 358,
   "id": "480630b2-7830-4f0f-bfab-1ce0d5fe1820",
   "metadata": {},
   "outputs": [
    {
     "data": {
      "text/plain": [
       "array([[7.29111856e-304, 7.29111856e-304, 7.29111856e-304, ...,\n",
       "        7.29111856e-304, 7.29111856e-304, 7.29111856e-304],\n",
       "       [7.29111856e-304, 7.29111856e-304, 7.29111856e-304, ...,\n",
       "        7.29111856e-304, 7.29111856e-304, 7.29111856e-304],\n",
       "       [7.29111856e-304, 7.29111856e-304, 7.29111856e-304, ...,\n",
       "        7.29111856e-304, 7.29111856e-304, 7.29111856e-304],\n",
       "       ...,\n",
       "       [7.29111856e-304, 7.29111856e-304, 7.29111856e-304, ...,\n",
       "        7.29111856e-304, 7.29111856e-304, 7.29111856e-304],\n",
       "       [7.29111856e-304, 7.29111856e-304, 7.29111856e-304, ...,\n",
       "        7.29111856e-304, 7.29111856e-304, 7.29111856e-304],\n",
       "       [7.29111856e-304, 7.29111856e-304, 7.29111856e-304, ...,\n",
       "        7.29111856e-304, 7.29111856e-304, 7.29111856e-304]])"
      ]
     },
     "execution_count": 358,
     "metadata": {},
     "output_type": "execute_result"
    }
   ],
   "source": [
    "shape = (len(tract_index_map),) * 2\n",
    "distance_matrix = np.empty(shape)\n",
    "distance_matrix"
   ]
  },
  {
   "cell_type": "code",
   "execution_count": 360,
   "id": "8ac03acd-2d41-4600-92ca-192435821a54",
   "metadata": {},
   "outputs": [
    {
     "data": {
      "text/plain": [
       "array([[7.29111856e-304, 1.10091284e+000, 2.27336712e+000, ...,\n",
       "        3.64643507e+000, 5.58978602e+000, 2.08582701e+001],\n",
       "       [1.10091284e+000, 7.29111856e-304, 1.80152102e+000, ...,\n",
       "        4.70837869e+000, 4.58731398e+000, 2.03089283e+001],\n",
       "       [2.27336712e+000, 1.80152102e+000, 7.29111856e-304, ...,\n",
       "        4.94975937e+000, 5.39116814e+000, 2.17400775e+001],\n",
       "       ...,\n",
       "       [3.64643507e+000, 4.70837869e+000, 4.94975937e+000, ...,\n",
       "        7.29111856e-304, 9.22929389e+000, 2.37193039e+001],\n",
       "       [5.58978602e+000, 4.58731398e+000, 5.39116814e+000, ...,\n",
       "        9.22929389e+000, 7.29111856e-304, 1.67197127e+001],\n",
       "       [2.08582701e+001, 2.03089283e+001, 2.17400775e+001, ...,\n",
       "        2.37193039e+001, 1.67197127e+001, 7.29111856e-304]])"
      ]
     },
     "execution_count": 360,
     "metadata": {},
     "output_type": "execute_result"
    }
   ],
   "source": [
    "for i, row in distances.iterrows():\n",
    "    tract1, distance, tract2 = int(row[0]), row[1], int(row[2])\n",
    "    index1, index2 = tract_index_map[tract1], tract_index_map[tract2]\n",
    "    distance_matrix[index1, index2] = distance\n",
    "\n",
    "distance_matrix"
   ]
  },
  {
   "cell_type": "code",
   "execution_count": 326,
   "id": "8b0458f0-5b33-4f47-bc46-9d085360ac84",
   "metadata": {},
   "outputs": [
    {
     "data": {
      "text/plain": [
       "{1000,\n",
       " 2000,\n",
       " 2200,\n",
       " 2400,\n",
       " 3000,\n",
       " 3100,\n",
       " 3805,\n",
       " 3900,\n",
       " 5200,\n",
       " 5400,\n",
       " 5800,\n",
       " 7100,\n",
       " 7700,\n",
       " 7801,\n",
       " 8000,\n",
       " 8100,\n",
       " 8200,\n",
       " 9302,\n",
       " 9400,\n",
       " 9601,\n",
       " 9603,\n",
       " 10100,\n",
       " 10400,\n",
       " 10601,\n",
       " 10602,\n",
       " 10800,\n",
       " 10901,\n",
       " 11208,\n",
       " 11400,\n",
       " 11501,\n",
       " 11601,\n",
       " 11603,\n",
       " 11705,\n",
       " 11706,\n",
       " 12301,\n",
       " 12401,\n",
       " 12700,\n",
       " 12800,\n",
       " 13101,\n",
       " 13104,\n",
       " 13204,\n",
       " 13206,\n",
       " 13506,\n",
       " 13507,\n",
       " 13601,\n",
       " 13702,\n",
       " 14001,\n",
       " 14004,\n",
       " 14102,\n",
       " 14103,\n",
       " 14104,\n",
       " 14203,\n",
       " 14301,\n",
       " 14302,\n",
       " 14400,\n",
       " 14504,\n",
       " 14505,\n",
       " 14602,\n",
       " 14700,\n",
       " 14901,\n",
       " 14906,\n",
       " 15303,\n",
       " 15304,\n",
       " 15400,\n",
       " 980000}"
      ]
     },
     "execution_count": 326,
     "metadata": {},
     "output_type": "execute_result"
    }
   ],
   "source": [
    "tracts = set()\n",
    "with open('monroe_vaccine_tracts_short.txt') as file:\n",
    "    for line in file:\n",
    "        tracts |= {int(line.strip())}\n",
    "\n",
    "tracts"
   ]
  },
  {
   "cell_type": "code",
   "execution_count": 362,
   "id": "d4e967f0-d99b-456b-b015-6dc1b7ea64c4",
   "metadata": {},
   "outputs": [],
   "source": [
    "from simanneal import Annealer\n",
    "import random, math\n",
    "import csv\n",
    "from collections import defaultdict\n",
    "\n",
    "class ClinicFinder(Annealer):\n",
    "    def __init__(self, state, distance_matrix, population, risk, clinic_amount):\n",
    "        self.distance_matrix = distance_matrix\n",
    "        self.max_dist = -1\n",
    "        for x in distance_matrix:\n",
    "            #print(x)\n",
    "            for y in distance_matrix[x]:\n",
    "                #print(y)\n",
    "                if self.max_dist < distance_matrix[x][y]:\n",
    "                    self.max_dist = distance_matrix[x][y]\n",
    "        #self.max_dist = max([distance_matrix[x][y] for x in distance_matrix for y in x])\n",
    "        self.population = population\n",
    "        self.risk = risk\n",
    "        self.clinic_amount = clinic_amount\n",
    "        super(ClinicFinder, self).__init__(state)\n",
    "\n",
    "    def move(self):\n",
    "        a = random.randint(0, self.clinic_amount - 1)\n",
    "        b = random.randint(self.clinic_amount, len(self.state) - 1)\n",
    "        self.state[a], self.state[b] = self.state[b], self.state[a]\n",
    "\n",
    "\n",
    "    def energy(self):\n",
    "        e = 0\n",
    "        for i in range(self.clinic_amount,len(self.state)):\n",
    "            min = 1000000000.0\n",
    "            for j in range(self.clinic_amount):\n",
    "                if self.distance_matrix[self.state[i]][self.state[j]] <  min:\n",
    "                    min = self.distance_matrix[self.state[i]][self.state[j]]\n",
    "            #e += min / self.max_dist + self.risk[self.state[i]]    # Metric 3\n",
    "            e += min * self.risk[self.state[i]]                     # Metric 1\n",
    "            #e += (1 + self.risk[self.state[i]]) ** min              # Metric 2\n",
    "            #e += min ** (self.risk[self.state[i]])               # Metric 4\n",
    "        return e"
   ]
  },
  {
   "cell_type": "code",
   "execution_count": 363,
   "id": "350de6ae-7477-4c5e-a7e1-dcb22a35adfc",
   "metadata": {},
   "outputs": [
    {
     "name": "stdout",
     "output_type": "stream",
     "text": [
      "65\n",
      "['13603', '8301', '6800', '6200', '13001', '14602', '14804', '6600', '12800', '13702', '14505', '15303', '2000', '7600', '9601', '12201', '13604', '14906', '13401', '13506', '14004', '2700', '8702', '11705', '14204', '11504', '14803', '1900', '3300', '5000', '8100', '14905', '14003', '14503', '11505', '700', '15200', '9302', '8500', '6700', '2300', '13002', '10901', '13205', '13300', '14601', '14802', '4100', '6400', '11100', '12500', '3200', '12304', '11503', '14103', '12301', '6000', '10602', '14903', '6900', '11207', '3805', '4701', '11703', '14700', '8600', '10902', '14001', '5500', '13601', '7000', '9603', '4900', '11604', '3500', '9301', '15400', '8400', '11603', '2200', '12100', '12306', '14202', '8200', '13901', '11203', '11601', '5400', '6500', '10601', '10500', '11501', '7100', '9602', '15304', '13508', '7700', '8701', '10200', '12700', '1000', '1300', '13204', '13503', '10800', '13203', '15301', '15000', '2400', '11205', '4800', '11707', '10700', '5200', '11902', '3400', '4602', '4702', '3700', '14203', '12305', '5900', '13507', '11706', '14104', '5300', '9604', '14301', '13701', '5600', '4000', '6300', '2900', '11605', '13402', '11301', '2100', '12202', '9500', '11400', '6100', '8800', '3100', '11302', '5100', '9200', '15101', '11201', '14400', '11708', '10300', '1500', '13103', '12402', '13800', '11800', '14504', '8000', '13902', '7500', '5800', '10400', '14501', '15102', '12000', '12600', '11000', '3600', '7802', '13505', '14901', '3000', '11208', '12401', '13104', '14102', '7900', '10100', '3900', '7801', '14302', '12900', '13206', '13101', '1800', '9400', '5700', '11901']\n"
     ]
    }
   ],
   "source": [
    "file = open('./annealer/monroe_tracts.csv','r')\n",
    "reader = csv.DictReader(file)\n",
    "line_count = 0\n",
    "risk = {}\n",
    "population = {}\n",
    "tracts = []\n",
    "for row in reader:\n",
    "    if line_count != 0:\n",
    "        risk[row['tract']] =  float(row['ccvi'])\n",
    "        population[row['tract']] =  float(row['pop_est'])\n",
    "        tracts.append(row['tract'])\n",
    "    line_count+=1\n",
    "file2 = open('./annealer/monroe_tract_dists.csv','r')\n",
    "reader2 = csv.DictReader(file2)\n",
    "distance_matrix = defaultdict(dict)\n",
    "for row in reader2:\n",
    "    if line_count != 0:\n",
    "        distance_matrix[row['tract1']][row['tract2']] = float(row['mi_to_tract'])\n",
    "    line_count += 1\n",
    "random.shuffle(tracts)\n",
    "\n",
    "CF = ClinicFinder(tracts,distance_matrix,population,risk,65)\n",
    "CF.Tmax = 500.0\n",
    "print(CF.clinic_amount)\n",
    "print(CF.state)\n"
   ]
  },
  {
   "cell_type": "code",
   "execution_count": 364,
   "id": "2ee99a97-0840-4502-b119-3cf242de596b",
   "metadata": {},
   "outputs": [
    {
     "name": "stderr",
     "output_type": "stream",
     "text": [
      " Temperature        Energy    Accept   Improve     Elapsed   Remaining\n",
      "     2.50000         81.70    87.60%    44.20%     0:00:54     0:00:00"
     ]
    },
    {
     "name": "stdout",
     "output_type": "stream",
     "text": [
      "['6200', '9500', '12900', '15102', '8000', '9301', '4701', '12100', '8100', '14906', '13603', '11505', '10800', '5800', '11203', '11400', '1000', '6300', '4800', '15304', '14505', '13901', '14901', '2100', '8701', '14802', '11603', '14004', '11503', '12301', '13203', '9200', '3400', '13103', '10601', '14601', '12401', '15200', '12306', '7000', '13206', '13506', '15101', '11800', '5600', '13205', '14203', '14202', '3100', '14400', '11501', '14102', '1300', '8500', '12304', '1900', '12700', '14903', '13503', '9302', '14104', '4702', '14700', '14503', '7600', '7801', '11605', '12000', '11703', '5000', '6700', '11302', '12402', '14905', '12202', '11208', '5900', '13001', '13902', '7900', '6400', '12600', '10200', '2300', '8600', '13505', '13401', '7700', '6500', '3805', '13300', '8400', '11705', '4900', '6800', '9400', '3900', '13508', '14301', '2200', '3000', '14602', '5100', '6900', '12800', '700', '13402', '13002', '10100', '11504', '11708', '11901', '10400', '9603', '5700', '13507', '11707', '6100', '11100', '4000', '13104', '2400', '11706', '7100', '14302', '9604', '11601', '12305', '2900', '14204', '11207', '10902', '13702', '8200', '7802', '13101', '15301', '11604', '3300', '14501', '4602', '15400', '6600', '5500', '10700', '11201', '8702', '13800', '10901', '3500', '11902', '8800', '4100', '11205', '3600', '14003', '10300', '5200', '14001', '5300', '12201', '3200', '7500', '1800', '9602', '12500', '15000', '10602', '10500', '13601', '2700', '6000', '14103', '1500', '9601', '14504', '8301', '2000', '11301', '3700', '14804', '13604', '15303', '14803', '5400', '11000', '13204', '13701']\n",
      "70.58387949204008\n"
     ]
    }
   ],
   "source": [
    "states, utility = CF.anneal()\n",
    "states_copy = [x for x in states]\n",
    "\n",
    "print(states)\n",
    "print(utility)"
   ]
  },
  {
   "cell_type": "code",
   "execution_count": null,
   "id": "ce6d02db-5622-4789-bfc8-bc557fca3bc2",
   "metadata": {},
   "outputs": [],
   "source": [
    "f = open(\"monroe_vaccine_tracts_short.txt\", \"r\")\n",
    "unique0 = {x.strip() for x in f}\n",
    "#print(len(unique))\n",
    "index0 = 0\n",
    "for x in unique0:\n",
    "    for i in range(len(states)):\n",
    "        if x == states[i]:\n",
    "            states[index0], states[i] = states[i], states[index0]\n",
    "            index0 = index0 + 1\n",
    "            break\n",
    "\n",
    "e = 0\n",
    "e_orig = {}\n",
    "orig_min_dist_avg = 0\n",
    "for i in range(65,len(states)):\n",
    "    min = 1000000000.0\n",
    "    for j in range(65):\n",
    "        if distance_matrix[states[i]][states[j]] <  min:\n",
    "            min = distance_matrix[states[i]][states[j]]\n",
    "            \n",
    "    orig_min_dist_avg += min\n",
    "    #e += (1 + risk[states[i]]) ** min\n",
    "    #e_orig[states[i]] = (1 + risk[states[i]]) ** min\n",
    "    e += min * risk[states[i]]\n",
    "    e_orig[states[i]] = min * risk[states[i]]\n",
    "    #e += min / CF.max_dist + risk[states[i]]\n",
    "    #e_orig[states[i]] = min / CF.max_dist + risk[states[i]]\n",
    "    #e += min ** (risk[states[i]])\n",
    "    #e_orig[states[i]] = min ** (risk[states[i]])\n",
    "print(e)\n",
    "orig_min_dist_avg /= len(states) - 65"
   ]
  },
  {
   "cell_type": "code",
   "execution_count": 365,
   "id": "22982181-6f70-417f-9688-992ae79ccf12",
   "metadata": {},
   "outputs": [
    {
     "name": "stdout",
     "output_type": "stream",
     "text": [
      "89.70363396287614\n",
      "1.60252296488581\n",
      "1.1962180165256953\n"
     ]
    }
   ],
   "source": [
    "f = open(\"quantum2.txt\", \"r\")\n",
    "unique = {x.strip() for x in f}\n",
    "#print(len(unique))\n",
    "index = 0\n",
    "for x in unique:\n",
    "    for i in range(len(states)):\n",
    "        if x == states[i]:\n",
    "            states[index], states[i] = states[i], states[index]\n",
    "            index = index + 1\n",
    "            break\n",
    "\n",
    "#print(states)\n",
    "#print(unique)\n",
    "e = 0\n",
    "e_orig = {}\n",
    "orig_min_dist_avg = 0\n",
    "for i in range(65,len(states)):\n",
    "    min = 1000000000.0\n",
    "    for j in range(65):\n",
    "        if distance_matrix[states[i]][states[j]] <  min:\n",
    "            min = distance_matrix[states[i]][states[j]]\n",
    "            \n",
    "    orig_min_dist_avg += min\n",
    "    #e += (1 + risk[states[i]]) ** min\n",
    "    #e_orig[states[i]] = (1 + risk[states[i]]) ** min\n",
    "    e += min * risk[states[i]]\n",
    "    e_orig[states[i]] = min * risk[states[i]]\n",
    "    #e += min / CF.max_dist + risk[states[i]]\n",
    "    #e_orig[states[i]] = min / CF.max_dist + risk[states[i]]\n",
    "    #e += min ** (risk[states[i]])\n",
    "    #e_orig[states[i]] = min ** (risk[states[i]])\n",
    "print(e)\n",
    "orig_min_dist_avg /= len(states) - 65\n",
    "    \n",
    "e = 0\n",
    "e_new = {}\n",
    "new_min_dist_avg = 0\n",
    "for i in range(65,len(states_copy)):\n",
    "    min = 1000000000.0\n",
    "    for j in range(65):\n",
    "        if distance_matrix[states_copy[i]][states_copy[j]] <  min:\n",
    "            min = distance_matrix[states_copy[i]][states_copy[j]]\n",
    "    \n",
    "    new_min_dist_avg += min\n",
    "    #e += (1 + risk[states_copy[i]]) ** min\n",
    "    #e_new[states_copy[i]] = (1 + risk[states_copy[i]]) ** min\n",
    "    e += min * risk[states_copy[i]]\n",
    "    e_new[states_copy[i]] = min * risk[states_copy[i]]\n",
    "    #e += min / CF.max_dist + risk[states_copy[i]]\n",
    "    #e_new[states_copy[i]] = min / CF.max_dist + risk[states_copy[i]]\n",
    "    #e += min ** (risk[states_copy[i]])\n",
    "    #e_new[states_copy[i]] = min ** (risk[states_copy[i]])\n",
    "    \n",
    "new_min_dist_avg /= len(states) - 65\n",
    "\n",
    "for i in range(65):\n",
    "    e_orig[states[i]] = 0\n",
    "    e_new[states_copy[i]] = 0\n",
    "\n",
    "deltas = defaultdict()\n",
    "for x in e_new:\n",
    "    deltas[x] = (e_orig[x] - e_new[x])\n",
    "    \n",
    "print(orig_min_dist_avg)\n",
    "print(new_min_dist_avg)"
   ]
  },
  {
   "cell_type": "code",
   "execution_count": 366,
   "id": "2e044f5c-5ddf-4fbf-b34a-d2bc64ca38a4",
   "metadata": {},
   "outputs": [],
   "source": [
    "for i in range(65):\n",
    "    e_orig[states[i]] = 0\n",
    "    e_new[states_copy[i]] = 0"
   ]
  },
  {
   "cell_type": "code",
   "execution_count": 367,
   "id": "72949a49-5029-4179-816d-475f92ee722d",
   "metadata": {},
   "outputs": [],
   "source": [
    "deltas = defaultdict()\n",
    "for x in e_new:\n",
    "    #deltas[x] = (e_new[x] - e_orig[x])\n",
    "    deltas |= {x: e_orig[x] - e_new[x]}\n",
    "    #print(deltas[x], x)"
   ]
  },
  {
   "cell_type": "code",
   "execution_count": 271,
   "id": "a99fe75a-5225-47d6-94ce-eb4ee5dcb63f",
   "metadata": {},
   "outputs": [
    {
     "data": {
      "image/png": "[encoded data removed]",
      "text/plain": [
       "<Figure size 432x288 with 1 Axes>"
      ]
     },
     "metadata": {
      "needs_background": "light"
     },
     "output_type": "display_data"
    }
   ],
   "source": [
    "import numpy as np\n",
    "import matplotlib.pyplot as plt\n",
    "\n",
    "ccvi = []\n",
    "delta = []\n",
    "distances = []\n",
    "for x in risk:\n",
    "    ccvi.append(risk[x])\n",
    "    delta.append(deltas[x])\n",
    "        \n",
    "    \n",
    "ccvi = np.array(ccvi)\n",
    "delta = np.array(delta)\n",
    "\n",
    "plt.scatter(ccvi, delta)\n",
    "plt.xlabel('CCVI')\n",
    "plt.ylabel('ΔE')\n",
    "plt.title('Change in energy by CCVI, using Metric 2')\n",
    "plt.savefig('scatterplot_quantum.png')"
   ]
  },
  {
   "cell_type": "markdown",
   "id": "f5c79b7f-1f2c-4661-8f0c-27871fd97759",
   "metadata": {},
   "source": [
    "Explanation of what this does:   "
   ]
  },
  {
   "cell_type": "code",
   "execution_count": 319,
   "id": "75223390-b0db-413f-9ef6-f53d47934e6c",
   "metadata": {},
   "outputs": [
    {
     "data": {
      "text/plain": [
       "(-0.04147004329297552, 0.021901727150213178, 0.0633717704431887)"
      ]
     },
     "execution_count": 319,
     "metadata": {},
     "output_type": "execute_result"
    }
   ],
   "source": [
    "delta_values = list(deltas.values())\n",
    "\n",
    "q1 = np.quantile(delta_values, 0.25)\n",
    "q3 = np.quantile(delta_values, 0.75)\n",
    "iqr = q3 - q1\n",
    "q1, q3, iqr"
   ]
  },
  {
   "cell_type": "code",
   "execution_count": 320,
   "id": "c65816ee-2ed6-482f-a492-cbd19800a413",
   "metadata": {},
   "outputs": [],
   "source": [
    "temp_dict = {}\n",
    "for tract in deltas:\n",
    "    if ((deltas[tract]  > q1 - 1.5 * iqr) and (deltas[tract] < q3 + 1.5 * iqr)):\n",
    "        temp_dict[tract] = deltas[tract]"
   ]
  },
  {
   "cell_type": "code",
   "execution_count": 321,
   "id": "9dd4ee99-5160-43c2-bb0a-7925ea5c8d5f",
   "metadata": {},
   "outputs": [],
   "source": [
    "from statistics import mean, median\n",
    "\n",
    "def get_bins(d_dict: dict[float], num_bins: int) -> list[list[float]]:\n",
    "    bins = [[] for _ in range(num_bins)]\n",
    "\n",
    "    for tract in d_dict:\n",
    "        b, i, j = 0, 0, (1 / num_bins)\n",
    "        binned = False\n",
    "        while not binned:\n",
    "            if i < risk[tract] < j:\n",
    "                bins[b].append(d_dict[tract])\n",
    "                binned = True\n",
    "            else:\n",
    "                b, i, j = (b + 1), j, (j + 1 / num_bins)\n",
    "\n",
    "    return bins"
   ]
  },
  {
   "cell_type": "code",
   "execution_count": 322,
   "id": "b732fd40-a005-4c91-b7f3-e232b9086ba8",
   "metadata": {},
   "outputs": [
    {
     "data": {
      "text/plain": [
       "([-0.006738738850928529, -0.0029169203481464413, 0.0013802788228353463],\n",
       " [0.0, 0, 0.0],\n",
       " [29, 39, 36])"
      ]
     },
     "execution_count": 322,
     "metadata": {},
     "output_type": "execute_result"
    }
   ],
   "source": [
    "bins = get_bins(temp_dict, 3)\n",
    "means = [mean(b) for b in bins]\n",
    "medians = [median(b) for b in bins]\n",
    "counts = [len(b) for b in bins]\n",
    "means, medians, counts"
   ]
  },
  {
   "cell_type": "code",
   "execution_count": 323,
   "id": "f5fed933-9feb-48af-91db-a683a0d2c773",
   "metadata": {},
   "outputs": [],
   "source": [
    "xs = np.array([str(i) for i in range(len(bins))])\n",
    "ys = np.array(means)\n",
    "zs = np.array(counts)\n",
    "ws = np.array(medians)"
   ]
  },
  {
   "cell_type": "code",
   "execution_count": 324,
   "id": "9c733401-03fa-449a-97d5-07cfe4d26b34",
   "metadata": {},
   "outputs": [
    {
     "data": {
      "image/png": "[encoded data removed]",
      "text/plain": [
       "<Figure size 432x288 with 1 Axes>"
      ]
     },
     "metadata": {
      "needs_background": "light"
     },
     "output_type": "display_data"
    }
   ],
   "source": [
    "plt.bar(xs, means)\n",
    "plt.xlabel('Risk classification')\n",
    "plt.ylabel('Average ΔE')\n",
    "plt.title('Average change in energy by risk classification, using Metric 3')\n",
    "plt.savefig('barplot_metric3.png')"
   ]
  },
  {
   "cell_type": "code",
   "execution_count": 221,
   "id": "913cbca0-f892-4305-a745-a1a395065be6",
   "metadata": {},
   "outputs": [
    {
     "data": {
      "text/plain": [
       "Text(0.5, 1.0, 'CCVI Frequency')"
      ]
     },
     "execution_count": 221,
     "metadata": {},
     "output_type": "execute_result"
    },
    {
     "data": {
      "image/png": "[encoded data removed]",
      "text/plain": [
       "<Figure size 432x288 with 1 Axes>"
      ]
     },
     "metadata": {
      "needs_background": "light"
     },
     "output_type": "display_data"
    }
   ],
   "source": [
    "plt.bar(xs, counts)\n",
    "plt.xlabel('Risk classification')\n",
    "plt.ylabel('Number of tracts')\n",
    "plt.title('CCVI Frequency')\n",
    "#plt.savefig('barplot_metric1.png')"
   ]
  },
  {
   "cell_type": "code",
   "execution_count": 88,
   "id": "2c12051d-3829-44ab-b91d-ab43c44f95f2",
   "metadata": {},
   "outputs": [],
   "source": [
    "d = [(x, deltas[x]) for x in deltas]\n",
    "d = sorted(x, key=lambda x: x[1])\n",
    "with open('deltas.txt', 'w') as f:\n",
    "    for x, dx in d:\n",
    "        f.write(f'{x}, {dx}\\n')"
   ]
  },
  {
   "cell_type": "code",
   "execution_count": null,
   "id": "f840746a-5512-4880-b9f6-bb530d03d9d5",
   "metadata": {},
   "outputs": [],
   "source": []
  },
  {
   "cell_type": "code",
   "execution_count": 102,
   "id": "9475b3a2-5e95-42c9-9838-8ea0fe5c3b1d",
   "metadata": {},
   "outputs": [
    {
     "data": {
      "image/png": "[encoded data removed]",
      "text/plain": [
       "<Figure size 432x288 with 1 Axes>"
      ]
     },
     "metadata": {
      "needs_background": "light"
     },
     "output_type": "display_data"
    }
   ],
   "source": [
    "\n",
    "\n",
    "shuffled_deltas = [(x, deltas[x]) for x in deltas]\n",
    "random.shuffle(shuffled_deltas)\n",
    "\n",
    "keys = [x for x, y in shuffled_deltas]\n",
    "values = [y for x, y in shuffled_deltas]\n",
    "plt.bar(keys, values)\n",
    "plt.xlabel('Census tract')\n",
    "plt.ylabel('ΔE')\n",
    "plt.title('Change in energy by census tract')\n",
    "plt.savefig('barplot.png')"
   ]
  }
 ],
 "metadata": {
  "kernelspec": {
   "display_name": "Python 3",
   "language": "python",
   "name": "python3"
  },
  "language_info": {
   "codemirror_mode": {
    "name": "ipython",
    "version": 3
   },
   "file_extension": ".py",
   "mimetype": "text/x-python",
   "name": "python",
   "nbconvert_exporter": "python",
   "pygments_lexer": "ipython3",
   "version": "3.9.5"
  }
 },
 "nbformat": 4,
 "nbformat_minor": 5
}
